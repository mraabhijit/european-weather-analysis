{
 "cells": [
  {
   "cell_type": "code",
   "execution_count": 1,
   "id": "ab31fee5",
   "metadata": {
    "_cell_guid": "b1076dfc-b9ad-4769-8c92-a6c4dae69d19",
    "_uuid": "8f2839f25d086af736a60e9eeb907d3b93b6e0e5",
    "execution": {
     "iopub.execute_input": "2024-03-13T15:50:48.085801Z",
     "iopub.status.busy": "2024-03-13T15:50:48.085120Z",
     "iopub.status.idle": "2024-03-13T15:50:49.078254Z",
     "shell.execute_reply": "2024-03-13T15:50:49.077077Z"
    },
    "papermill": {
     "duration": 1.005905,
     "end_time": "2024-03-13T15:50:49.081023",
     "exception": false,
     "start_time": "2024-03-13T15:50:48.075118",
     "status": "completed"
    },
    "tags": []
   },
   "outputs": [
    {
     "name": "stdout",
     "output_type": "stream",
     "text": [
      "/kaggle/input/european-weather-data/README.md\n",
      "/kaggle/input/european-weather-data/datapackage.json\n",
      "/kaggle/input/european-weather-data/weather_data.csv\n"
     ]
    }
   ],
   "source": [
    "# This Python 3 environment comes with many helpful analytics libraries installed\n",
    "# It is defined by the kaggle/python Docker image: https://github.com/kaggle/docker-python\n",
    "# For example, here's several helpful packages to load\n",
    "\n",
    "import numpy as np # linear algebra\n",
    "import pandas as pd # data processing, CSV file I/O (e.g. pd.read_csv)\n",
    "\n",
    "# Input data files are available in the read-only \"../input/\" directory\n",
    "# For example, running this (by clicking run or pressing Shift+Enter) will list all files under the input directory\n",
    "\n",
    "import os\n",
    "for dirname, _, filenames in os.walk('/kaggle/input'):\n",
    "    for filename in filenames:\n",
    "        print(os.path.join(dirname, filename))\n",
    "\n",
    "# You can write up to 20GB to the current directory (/kaggle/working/) that gets preserved as output when you create a version using \"Save & Run All\" \n",
    "# You can also write temporary files to /kaggle/temp/, but they won't be saved outside of the current session"
   ]
  },
  {
   "cell_type": "markdown",
   "id": "524ab2da",
   "metadata": {
    "papermill": {
     "duration": 0.006673,
     "end_time": "2024-03-13T15:50:49.095000",
     "exception": false,
     "start_time": "2024-03-13T15:50:49.088327",
     "status": "completed"
    },
    "tags": []
   },
   "source": [
    "## Read Data into a Dataframe"
   ]
  },
  {
   "cell_type": "code",
   "execution_count": 2,
   "id": "fd1cd044",
   "metadata": {
    "execution": {
     "iopub.execute_input": "2024-03-13T15:50:49.110796Z",
     "iopub.status.busy": "2024-03-13T15:50:49.110263Z",
     "iopub.status.idle": "2024-03-13T15:50:57.716912Z",
     "shell.execute_reply": "2024-03-13T15:50:57.715504Z"
    },
    "papermill": {
     "duration": 8.618357,
     "end_time": "2024-03-13T15:50:57.720250",
     "exception": false,
     "start_time": "2024-03-13T15:50:49.101893",
     "status": "completed"
    },
    "tags": []
   },
   "outputs": [],
   "source": [
    "df = pd.read_csv(\"/kaggle/input/european-weather-data/weather_data.csv\")"
   ]
  },
  {
   "cell_type": "code",
   "execution_count": 3,
   "id": "9d7db7bf",
   "metadata": {
    "execution": {
     "iopub.execute_input": "2024-03-13T15:50:57.736423Z",
     "iopub.status.busy": "2024-03-13T15:50:57.735942Z",
     "iopub.status.idle": "2024-03-13T15:50:57.787007Z",
     "shell.execute_reply": "2024-03-13T15:50:57.785514Z"
    },
    "papermill": {
     "duration": 0.062961,
     "end_time": "2024-03-13T15:50:57.790304",
     "exception": false,
     "start_time": "2024-03-13T15:50:57.727343",
     "status": "completed"
    },
    "tags": []
   },
   "outputs": [
    {
     "data": {
      "text/html": [
       "<div>\n",
       "<style scoped>\n",
       "    .dataframe tbody tr th:only-of-type {\n",
       "        vertical-align: middle;\n",
       "    }\n",
       "\n",
       "    .dataframe tbody tr th {\n",
       "        vertical-align: top;\n",
       "    }\n",
       "\n",
       "    .dataframe thead th {\n",
       "        text-align: right;\n",
       "    }\n",
       "</style>\n",
       "<table border=\"1\" class=\"dataframe\">\n",
       "  <thead>\n",
       "    <tr style=\"text-align: right;\">\n",
       "      <th></th>\n",
       "      <th>utc_timestamp</th>\n",
       "      <th>AT_temperature</th>\n",
       "      <th>AT_radiation_direct_horizontal</th>\n",
       "      <th>AT_radiation_diffuse_horizontal</th>\n",
       "      <th>BE_temperature</th>\n",
       "      <th>BE_radiation_direct_horizontal</th>\n",
       "      <th>BE_radiation_diffuse_horizontal</th>\n",
       "      <th>BG_temperature</th>\n",
       "      <th>BG_radiation_direct_horizontal</th>\n",
       "      <th>BG_radiation_diffuse_horizontal</th>\n",
       "      <th>...</th>\n",
       "      <th>RO_radiation_diffuse_horizontal</th>\n",
       "      <th>SE_temperature</th>\n",
       "      <th>SE_radiation_direct_horizontal</th>\n",
       "      <th>SE_radiation_diffuse_horizontal</th>\n",
       "      <th>SI_temperature</th>\n",
       "      <th>SI_radiation_direct_horizontal</th>\n",
       "      <th>SI_radiation_diffuse_horizontal</th>\n",
       "      <th>SK_temperature</th>\n",
       "      <th>SK_radiation_direct_horizontal</th>\n",
       "      <th>SK_radiation_diffuse_horizontal</th>\n",
       "    </tr>\n",
       "  </thead>\n",
       "  <tbody>\n",
       "    <tr>\n",
       "      <th>0</th>\n",
       "      <td>1980-01-01T00:00:00Z</td>\n",
       "      <td>-3.640</td>\n",
       "      <td>0.0</td>\n",
       "      <td>0.0</td>\n",
       "      <td>-0.720</td>\n",
       "      <td>0.0</td>\n",
       "      <td>0.0</td>\n",
       "      <td>4.664</td>\n",
       "      <td>0.0</td>\n",
       "      <td>0.0</td>\n",
       "      <td>...</td>\n",
       "      <td>0.0</td>\n",
       "      <td>-3.945</td>\n",
       "      <td>0.0</td>\n",
       "      <td>0.0</td>\n",
       "      <td>-3.055</td>\n",
       "      <td>0.0</td>\n",
       "      <td>0.0</td>\n",
       "      <td>-4.648</td>\n",
       "      <td>0.0</td>\n",
       "      <td>0.0</td>\n",
       "    </tr>\n",
       "    <tr>\n",
       "      <th>1</th>\n",
       "      <td>1980-01-01T01:00:00Z</td>\n",
       "      <td>-3.803</td>\n",
       "      <td>0.0</td>\n",
       "      <td>0.0</td>\n",
       "      <td>-1.165</td>\n",
       "      <td>0.0</td>\n",
       "      <td>0.0</td>\n",
       "      <td>4.052</td>\n",
       "      <td>0.0</td>\n",
       "      <td>0.0</td>\n",
       "      <td>...</td>\n",
       "      <td>0.0</td>\n",
       "      <td>-4.053</td>\n",
       "      <td>0.0</td>\n",
       "      <td>0.0</td>\n",
       "      <td>-3.272</td>\n",
       "      <td>0.0</td>\n",
       "      <td>0.0</td>\n",
       "      <td>-4.554</td>\n",
       "      <td>0.0</td>\n",
       "      <td>0.0</td>\n",
       "    </tr>\n",
       "    <tr>\n",
       "      <th>2</th>\n",
       "      <td>1980-01-01T02:00:00Z</td>\n",
       "      <td>-3.969</td>\n",
       "      <td>0.0</td>\n",
       "      <td>0.0</td>\n",
       "      <td>-1.434</td>\n",
       "      <td>0.0</td>\n",
       "      <td>0.0</td>\n",
       "      <td>3.581</td>\n",
       "      <td>0.0</td>\n",
       "      <td>0.0</td>\n",
       "      <td>...</td>\n",
       "      <td>0.0</td>\n",
       "      <td>-4.129</td>\n",
       "      <td>0.0</td>\n",
       "      <td>0.0</td>\n",
       "      <td>-3.639</td>\n",
       "      <td>0.0</td>\n",
       "      <td>0.0</td>\n",
       "      <td>-4.455</td>\n",
       "      <td>0.0</td>\n",
       "      <td>0.0</td>\n",
       "    </tr>\n",
       "    <tr>\n",
       "      <th>3</th>\n",
       "      <td>1980-01-01T03:00:00Z</td>\n",
       "      <td>-4.076</td>\n",
       "      <td>0.0</td>\n",
       "      <td>0.0</td>\n",
       "      <td>-1.843</td>\n",
       "      <td>0.0</td>\n",
       "      <td>0.0</td>\n",
       "      <td>3.197</td>\n",
       "      <td>0.0</td>\n",
       "      <td>0.0</td>\n",
       "      <td>...</td>\n",
       "      <td>0.0</td>\n",
       "      <td>-4.139</td>\n",
       "      <td>0.0</td>\n",
       "      <td>0.0</td>\n",
       "      <td>-4.202</td>\n",
       "      <td>0.0</td>\n",
       "      <td>0.0</td>\n",
       "      <td>-4.421</td>\n",
       "      <td>0.0</td>\n",
       "      <td>0.0</td>\n",
       "    </tr>\n",
       "    <tr>\n",
       "      <th>4</th>\n",
       "      <td>1980-01-01T04:00:00Z</td>\n",
       "      <td>-4.248</td>\n",
       "      <td>0.0</td>\n",
       "      <td>0.0</td>\n",
       "      <td>-2.094</td>\n",
       "      <td>0.0</td>\n",
       "      <td>0.0</td>\n",
       "      <td>2.750</td>\n",
       "      <td>0.0</td>\n",
       "      <td>0.0</td>\n",
       "      <td>...</td>\n",
       "      <td>0.0</td>\n",
       "      <td>-4.239</td>\n",
       "      <td>0.0</td>\n",
       "      <td>0.0</td>\n",
       "      <td>-4.732</td>\n",
       "      <td>0.0</td>\n",
       "      <td>0.0</td>\n",
       "      <td>-4.449</td>\n",
       "      <td>0.0</td>\n",
       "      <td>0.0</td>\n",
       "    </tr>\n",
       "  </tbody>\n",
       "</table>\n",
       "<p>5 rows × 85 columns</p>\n",
       "</div>"
      ],
      "text/plain": [
       "          utc_timestamp  AT_temperature  AT_radiation_direct_horizontal  \\\n",
       "0  1980-01-01T00:00:00Z          -3.640                             0.0   \n",
       "1  1980-01-01T01:00:00Z          -3.803                             0.0   \n",
       "2  1980-01-01T02:00:00Z          -3.969                             0.0   \n",
       "3  1980-01-01T03:00:00Z          -4.076                             0.0   \n",
       "4  1980-01-01T04:00:00Z          -4.248                             0.0   \n",
       "\n",
       "   AT_radiation_diffuse_horizontal  BE_temperature  \\\n",
       "0                              0.0          -0.720   \n",
       "1                              0.0          -1.165   \n",
       "2                              0.0          -1.434   \n",
       "3                              0.0          -1.843   \n",
       "4                              0.0          -2.094   \n",
       "\n",
       "   BE_radiation_direct_horizontal  BE_radiation_diffuse_horizontal  \\\n",
       "0                             0.0                              0.0   \n",
       "1                             0.0                              0.0   \n",
       "2                             0.0                              0.0   \n",
       "3                             0.0                              0.0   \n",
       "4                             0.0                              0.0   \n",
       "\n",
       "   BG_temperature  BG_radiation_direct_horizontal  \\\n",
       "0           4.664                             0.0   \n",
       "1           4.052                             0.0   \n",
       "2           3.581                             0.0   \n",
       "3           3.197                             0.0   \n",
       "4           2.750                             0.0   \n",
       "\n",
       "   BG_radiation_diffuse_horizontal  ...  RO_radiation_diffuse_horizontal  \\\n",
       "0                              0.0  ...                              0.0   \n",
       "1                              0.0  ...                              0.0   \n",
       "2                              0.0  ...                              0.0   \n",
       "3                              0.0  ...                              0.0   \n",
       "4                              0.0  ...                              0.0   \n",
       "\n",
       "   SE_temperature  SE_radiation_direct_horizontal  \\\n",
       "0          -3.945                             0.0   \n",
       "1          -4.053                             0.0   \n",
       "2          -4.129                             0.0   \n",
       "3          -4.139                             0.0   \n",
       "4          -4.239                             0.0   \n",
       "\n",
       "   SE_radiation_diffuse_horizontal  SI_temperature  \\\n",
       "0                              0.0          -3.055   \n",
       "1                              0.0          -3.272   \n",
       "2                              0.0          -3.639   \n",
       "3                              0.0          -4.202   \n",
       "4                              0.0          -4.732   \n",
       "\n",
       "   SI_radiation_direct_horizontal  SI_radiation_diffuse_horizontal  \\\n",
       "0                             0.0                              0.0   \n",
       "1                             0.0                              0.0   \n",
       "2                             0.0                              0.0   \n",
       "3                             0.0                              0.0   \n",
       "4                             0.0                              0.0   \n",
       "\n",
       "   SK_temperature  SK_radiation_direct_horizontal  \\\n",
       "0          -4.648                             0.0   \n",
       "1          -4.554                             0.0   \n",
       "2          -4.455                             0.0   \n",
       "3          -4.421                             0.0   \n",
       "4          -4.449                             0.0   \n",
       "\n",
       "   SK_radiation_diffuse_horizontal  \n",
       "0                              0.0  \n",
       "1                              0.0  \n",
       "2                              0.0  \n",
       "3                              0.0  \n",
       "4                              0.0  \n",
       "\n",
       "[5 rows x 85 columns]"
      ]
     },
     "execution_count": 3,
     "metadata": {},
     "output_type": "execute_result"
    }
   ],
   "source": [
    "df.head()"
   ]
  },
  {
   "cell_type": "markdown",
   "id": "cbdd5ba6",
   "metadata": {
    "papermill": {
     "duration": 0.007206,
     "end_time": "2024-03-13T15:50:57.805171",
     "exception": false,
     "start_time": "2024-03-13T15:50:57.797965",
     "status": "completed"
    },
    "tags": []
   },
   "source": [
    "## Descriptive Statistics"
   ]
  },
  {
   "cell_type": "code",
   "execution_count": 4,
   "id": "0d4dda90",
   "metadata": {
    "execution": {
     "iopub.execute_input": "2024-03-13T15:50:57.823111Z",
     "iopub.status.busy": "2024-03-13T15:50:57.821862Z",
     "iopub.status.idle": "2024-03-13T15:50:57.957891Z",
     "shell.execute_reply": "2024-03-13T15:50:57.956991Z"
    },
    "papermill": {
     "duration": 0.148146,
     "end_time": "2024-03-13T15:50:57.960896",
     "exception": false,
     "start_time": "2024-03-13T15:50:57.812750",
     "status": "completed"
    },
    "tags": []
   },
   "outputs": [
    {
     "name": "stdout",
     "output_type": "stream",
     "text": [
      "<class 'pandas.core.frame.DataFrame'>\n",
      "RangeIndex: 350640 entries, 0 to 350639\n",
      "Data columns (total 85 columns):\n",
      " #   Column                           Non-Null Count   Dtype  \n",
      "---  ------                           --------------   -----  \n",
      " 0   utc_timestamp                    350640 non-null  object \n",
      " 1   AT_temperature                   350640 non-null  float64\n",
      " 2   AT_radiation_direct_horizontal   350640 non-null  float64\n",
      " 3   AT_radiation_diffuse_horizontal  350640 non-null  float64\n",
      " 4   BE_temperature                   350640 non-null  float64\n",
      " 5   BE_radiation_direct_horizontal   350640 non-null  float64\n",
      " 6   BE_radiation_diffuse_horizontal  350640 non-null  float64\n",
      " 7   BG_temperature                   350640 non-null  float64\n",
      " 8   BG_radiation_direct_horizontal   350640 non-null  float64\n",
      " 9   BG_radiation_diffuse_horizontal  350640 non-null  float64\n",
      " 10  CH_temperature                   350640 non-null  float64\n",
      " 11  CH_radiation_direct_horizontal   350640 non-null  float64\n",
      " 12  CH_radiation_diffuse_horizontal  350640 non-null  float64\n",
      " 13  CZ_temperature                   350640 non-null  float64\n",
      " 14  CZ_radiation_direct_horizontal   350640 non-null  float64\n",
      " 15  CZ_radiation_diffuse_horizontal  350640 non-null  float64\n",
      " 16  DE_temperature                   350640 non-null  float64\n",
      " 17  DE_radiation_direct_horizontal   350640 non-null  float64\n",
      " 18  DE_radiation_diffuse_horizontal  350640 non-null  float64\n",
      " 19  DK_temperature                   350640 non-null  float64\n",
      " 20  DK_radiation_direct_horizontal   350640 non-null  float64\n",
      " 21  DK_radiation_diffuse_horizontal  350640 non-null  float64\n",
      " 22  EE_temperature                   350640 non-null  float64\n",
      " 23  EE_radiation_direct_horizontal   350640 non-null  float64\n",
      " 24  EE_radiation_diffuse_horizontal  350640 non-null  float64\n",
      " 25  ES_temperature                   350640 non-null  float64\n",
      " 26  ES_radiation_direct_horizontal   350640 non-null  float64\n",
      " 27  ES_radiation_diffuse_horizontal  350640 non-null  float64\n",
      " 28  FI_temperature                   350640 non-null  float64\n",
      " 29  FI_radiation_direct_horizontal   350640 non-null  float64\n",
      " 30  FI_radiation_diffuse_horizontal  350640 non-null  float64\n",
      " 31  FR_temperature                   350640 non-null  float64\n",
      " 32  FR_radiation_direct_horizontal   350640 non-null  float64\n",
      " 33  FR_radiation_diffuse_horizontal  350640 non-null  float64\n",
      " 34  GB_temperature                   350640 non-null  float64\n",
      " 35  GB_radiation_direct_horizontal   350640 non-null  float64\n",
      " 36  GB_radiation_diffuse_horizontal  350640 non-null  float64\n",
      " 37  GR_temperature                   350640 non-null  float64\n",
      " 38  GR_radiation_direct_horizontal   350640 non-null  float64\n",
      " 39  GR_radiation_diffuse_horizontal  350640 non-null  float64\n",
      " 40  HR_temperature                   350640 non-null  float64\n",
      " 41  HR_radiation_direct_horizontal   350640 non-null  float64\n",
      " 42  HR_radiation_diffuse_horizontal  350640 non-null  float64\n",
      " 43  HU_temperature                   350640 non-null  float64\n",
      " 44  HU_radiation_direct_horizontal   350640 non-null  float64\n",
      " 45  HU_radiation_diffuse_horizontal  350640 non-null  float64\n",
      " 46  IE_temperature                   350640 non-null  float64\n",
      " 47  IE_radiation_direct_horizontal   350640 non-null  float64\n",
      " 48  IE_radiation_diffuse_horizontal  350640 non-null  float64\n",
      " 49  IT_temperature                   350640 non-null  float64\n",
      " 50  IT_radiation_direct_horizontal   350640 non-null  float64\n",
      " 51  IT_radiation_diffuse_horizontal  350640 non-null  float64\n",
      " 52  LT_temperature                   350640 non-null  float64\n",
      " 53  LT_radiation_direct_horizontal   350640 non-null  float64\n",
      " 54  LT_radiation_diffuse_horizontal  350640 non-null  float64\n",
      " 55  LU_temperature                   350640 non-null  float64\n",
      " 56  LU_radiation_direct_horizontal   350640 non-null  float64\n",
      " 57  LU_radiation_diffuse_horizontal  350640 non-null  float64\n",
      " 58  LV_temperature                   350640 non-null  float64\n",
      " 59  LV_radiation_direct_horizontal   350640 non-null  float64\n",
      " 60  LV_radiation_diffuse_horizontal  350640 non-null  float64\n",
      " 61  NL_temperature                   350640 non-null  float64\n",
      " 62  NL_radiation_direct_horizontal   350640 non-null  float64\n",
      " 63  NL_radiation_diffuse_horizontal  350640 non-null  float64\n",
      " 64  NO_temperature                   350640 non-null  float64\n",
      " 65  NO_radiation_direct_horizontal   350640 non-null  float64\n",
      " 66  NO_radiation_diffuse_horizontal  350640 non-null  float64\n",
      " 67  PL_temperature                   350640 non-null  float64\n",
      " 68  PL_radiation_direct_horizontal   350640 non-null  float64\n",
      " 69  PL_radiation_diffuse_horizontal  350640 non-null  float64\n",
      " 70  PT_temperature                   350640 non-null  float64\n",
      " 71  PT_radiation_direct_horizontal   350640 non-null  float64\n",
      " 72  PT_radiation_diffuse_horizontal  350640 non-null  float64\n",
      " 73  RO_temperature                   350640 non-null  float64\n",
      " 74  RO_radiation_direct_horizontal   350640 non-null  float64\n",
      " 75  RO_radiation_diffuse_horizontal  350640 non-null  float64\n",
      " 76  SE_temperature                   350640 non-null  float64\n",
      " 77  SE_radiation_direct_horizontal   350640 non-null  float64\n",
      " 78  SE_radiation_diffuse_horizontal  350640 non-null  float64\n",
      " 79  SI_temperature                   350640 non-null  float64\n",
      " 80  SI_radiation_direct_horizontal   350640 non-null  float64\n",
      " 81  SI_radiation_diffuse_horizontal  350640 non-null  float64\n",
      " 82  SK_temperature                   350640 non-null  float64\n",
      " 83  SK_radiation_direct_horizontal   350640 non-null  float64\n",
      " 84  SK_radiation_diffuse_horizontal  350640 non-null  float64\n",
      "dtypes: float64(84), object(1)\n",
      "memory usage: 227.4+ MB\n"
     ]
    }
   ],
   "source": [
    "df.info()"
   ]
  },
  {
   "cell_type": "markdown",
   "id": "871d9413",
   "metadata": {
    "papermill": {
     "duration": 0.008004,
     "end_time": "2024-03-13T15:50:57.976900",
     "exception": false,
     "start_time": "2024-03-13T15:50:57.968896",
     "status": "completed"
    },
    "tags": []
   },
   "source": [
    "The data is pretty clean with no missing data. However, the 'utc_timestamp' is not of correct dtype. Let's correct it first."
   ]
  },
  {
   "cell_type": "code",
   "execution_count": 5,
   "id": "c93c643e",
   "metadata": {
    "execution": {
     "iopub.execute_input": "2024-03-13T15:50:57.994373Z",
     "iopub.status.busy": "2024-03-13T15:50:57.993987Z",
     "iopub.status.idle": "2024-03-13T15:50:58.689667Z",
     "shell.execute_reply": "2024-03-13T15:50:58.688296Z"
    },
    "papermill": {
     "duration": 0.708278,
     "end_time": "2024-03-13T15:50:58.692834",
     "exception": false,
     "start_time": "2024-03-13T15:50:57.984556",
     "status": "completed"
    },
    "tags": []
   },
   "outputs": [],
   "source": [
    "df['utc_timestamp'] = pd.to_datetime(df['utc_timestamp'])"
   ]
  },
  {
   "cell_type": "markdown",
   "id": "3d08979f",
   "metadata": {
    "papermill": {
     "duration": 0.007004,
     "end_time": "2024-03-13T15:50:58.707569",
     "exception": false,
     "start_time": "2024-03-13T15:50:58.700565",
     "status": "completed"
    },
    "tags": []
   },
   "source": [
    "Let's check the dtype now once to be sure."
   ]
  },
  {
   "cell_type": "code",
   "execution_count": 6,
   "id": "de995c22",
   "metadata": {
    "execution": {
     "iopub.execute_input": "2024-03-13T15:50:58.724002Z",
     "iopub.status.busy": "2024-03-13T15:50:58.723594Z",
     "iopub.status.idle": "2024-03-13T15:50:58.731888Z",
     "shell.execute_reply": "2024-03-13T15:50:58.730569Z"
    },
    "papermill": {
     "duration": 0.019506,
     "end_time": "2024-03-13T15:50:58.734414",
     "exception": false,
     "start_time": "2024-03-13T15:50:58.714908",
     "status": "completed"
    },
    "tags": []
   },
   "outputs": [
    {
     "data": {
      "text/plain": [
       "datetime64[ns, UTC]"
      ]
     },
     "execution_count": 6,
     "metadata": {},
     "output_type": "execute_result"
    }
   ],
   "source": [
    "df['utc_timestamp'].dtypes"
   ]
  },
  {
   "cell_type": "markdown",
   "id": "a0496b26",
   "metadata": {
    "papermill": {
     "duration": 0.007101,
     "end_time": "2024-03-13T15:50:58.749138",
     "exception": false,
     "start_time": "2024-03-13T15:50:58.742037",
     "status": "completed"
    },
    "tags": []
   },
   "source": [
    "We are good in terms of dtypes now.\n",
    "\n",
    "Next, we see that first rows of columns other than temperature contains 0 as the value. Let's check the values of those columns once."
   ]
  },
  {
   "cell_type": "code",
   "execution_count": 7,
   "id": "397f181f",
   "metadata": {
    "execution": {
     "iopub.execute_input": "2024-03-13T15:50:58.765988Z",
     "iopub.status.busy": "2024-03-13T15:50:58.765558Z",
     "iopub.status.idle": "2024-03-13T15:50:58.776042Z",
     "shell.execute_reply": "2024-03-13T15:50:58.774601Z"
    },
    "papermill": {
     "duration": 0.02233,
     "end_time": "2024-03-13T15:50:58.778997",
     "exception": false,
     "start_time": "2024-03-13T15:50:58.756667",
     "status": "completed"
    },
    "tags": []
   },
   "outputs": [
    {
     "data": {
      "text/plain": [
       "['AT_radiation_direct_horizontal',\n",
       " 'AT_radiation_diffuse_horizontal',\n",
       " 'BE_radiation_direct_horizontal',\n",
       " 'BE_radiation_diffuse_horizontal',\n",
       " 'BG_radiation_direct_horizontal',\n",
       " 'BG_radiation_diffuse_horizontal',\n",
       " 'CH_radiation_direct_horizontal',\n",
       " 'CH_radiation_diffuse_horizontal',\n",
       " 'CZ_radiation_direct_horizontal',\n",
       " 'CZ_radiation_diffuse_horizontal',\n",
       " 'DE_radiation_direct_horizontal',\n",
       " 'DE_radiation_diffuse_horizontal',\n",
       " 'DK_radiation_direct_horizontal',\n",
       " 'DK_radiation_diffuse_horizontal',\n",
       " 'EE_radiation_direct_horizontal',\n",
       " 'EE_radiation_diffuse_horizontal',\n",
       " 'ES_radiation_direct_horizontal',\n",
       " 'ES_radiation_diffuse_horizontal',\n",
       " 'FI_radiation_direct_horizontal',\n",
       " 'FI_radiation_diffuse_horizontal',\n",
       " 'FR_radiation_direct_horizontal',\n",
       " 'FR_radiation_diffuse_horizontal',\n",
       " 'GB_radiation_direct_horizontal',\n",
       " 'GB_radiation_diffuse_horizontal',\n",
       " 'GR_radiation_direct_horizontal',\n",
       " 'GR_radiation_diffuse_horizontal',\n",
       " 'HR_radiation_direct_horizontal',\n",
       " 'HR_radiation_diffuse_horizontal',\n",
       " 'HU_radiation_direct_horizontal',\n",
       " 'HU_radiation_diffuse_horizontal',\n",
       " 'IE_radiation_direct_horizontal',\n",
       " 'IE_radiation_diffuse_horizontal',\n",
       " 'IT_radiation_direct_horizontal',\n",
       " 'IT_radiation_diffuse_horizontal',\n",
       " 'LT_radiation_direct_horizontal',\n",
       " 'LT_radiation_diffuse_horizontal',\n",
       " 'LU_radiation_direct_horizontal',\n",
       " 'LU_radiation_diffuse_horizontal',\n",
       " 'LV_radiation_direct_horizontal',\n",
       " 'LV_radiation_diffuse_horizontal',\n",
       " 'NL_radiation_direct_horizontal',\n",
       " 'NL_radiation_diffuse_horizontal',\n",
       " 'NO_radiation_direct_horizontal',\n",
       " 'NO_radiation_diffuse_horizontal',\n",
       " 'PL_radiation_direct_horizontal',\n",
       " 'PL_radiation_diffuse_horizontal',\n",
       " 'PT_radiation_direct_horizontal',\n",
       " 'PT_radiation_diffuse_horizontal',\n",
       " 'RO_radiation_direct_horizontal',\n",
       " 'RO_radiation_diffuse_horizontal',\n",
       " 'SE_radiation_direct_horizontal',\n",
       " 'SE_radiation_diffuse_horizontal',\n",
       " 'SI_radiation_direct_horizontal',\n",
       " 'SI_radiation_diffuse_horizontal',\n",
       " 'SK_radiation_direct_horizontal',\n",
       " 'SK_radiation_diffuse_horizontal']"
      ]
     },
     "execution_count": 7,
     "metadata": {},
     "output_type": "execute_result"
    }
   ],
   "source": [
    "columns_to_check = [column for column in df.columns if not (column.endswith('temperature') or column == 'utc_timestamp')]\n",
    "columns_to_check"
   ]
  },
  {
   "cell_type": "code",
   "execution_count": 8,
   "id": "1bcc0523",
   "metadata": {
    "execution": {
     "iopub.execute_input": "2024-03-13T15:50:58.797676Z",
     "iopub.status.busy": "2024-03-13T15:50:58.797285Z",
     "iopub.status.idle": "2024-03-13T15:51:00.110498Z",
     "shell.execute_reply": "2024-03-13T15:51:00.108996Z"
    },
    "papermill": {
     "duration": 1.32604,
     "end_time": "2024-03-13T15:51:00.113513",
     "exception": false,
     "start_time": "2024-03-13T15:50:58.787473",
     "status": "completed"
    },
    "tags": []
   },
   "outputs": [
    {
     "name": "stdout",
     "output_type": "stream",
     "text": [
      "AT_radiation_direct_horizontal has 170018 values with [0.000000e+00 2.390000e-02 4.684400e+00 ... 2.409767e+02 1.683377e+02\n",
      " 7.398690e+01]\n",
      "AT_radiation_diffuse_horizontal has 183895 values with [ 0.      0.4413 33.5061 ... 77.3312 37.5349  1.1259]\n",
      "BE_radiation_direct_horizontal has 160057 values with [0.00000e+00 1.68000e-02 1.04750e+00 ... 2.18552e+01 1.15352e+01\n",
      " 8.11000e-01]\n",
      "BE_radiation_diffuse_horizontal has 181894 values with [  0.       0.57    24.1737 ... 115.7838  99.235   58.8302]\n",
      "BG_radiation_direct_horizontal has 173979 values with [0.000000e+00 1.020000e-02 2.114700e+00 ... 2.541799e+02 1.186499e+02\n",
      " 1.330130e+01]\n",
      "BG_radiation_diffuse_horizontal has 182891 values with [ 0.      0.3956 33.8837 ... 49.1537 48.0271 18.1615]\n",
      "CH_radiation_direct_horizontal has 169199 values with [  0.       0.6893   8.6186 ... 111.3132  37.7536   2.8849]\n",
      "CH_radiation_diffuse_horizontal has 182283 values with [ 0.     10.7658 64.3156 ... 87.599  63.0266 11.9864]\n",
      "CZ_radiation_direct_horizontal has 166679 values with [0.00000e+00 3.80000e-03 1.61390e+00 ... 2.20081e+01 1.64417e+01\n",
      " 2.46920e+00]\n",
      "CZ_radiation_diffuse_horizontal has 182092 values with [  0.       0.1368  23.4181 ... 110.8511  76.9339  22.7828]\n",
      "DE_radiation_direct_horizontal has 166014 values with [ 0.      0.1648  2.0364 ... 45.32   27.8345  6.5066]\n",
      "DE_radiation_diffuse_horizontal has 185070 values with [ 0.      4.9126 38.6062 ... 86.0403 38.3555  2.0778]\n",
      "DK_radiation_direct_horizontal has 157459 values with [0.00000e+00 6.60000e-03 8.82300e-01 ... 5.41996e+01 9.39510e+01\n",
      " 3.51408e+01]\n",
      "DK_radiation_diffuse_horizontal has 181861 values with [ 0.      0.2932 18.4301 ... 55.5367 42.6593  9.6608]\n",
      "EE_radiation_direct_horizontal has 153443 values with [0.     0.276  2.6294 ... 0.71   4.3207 4.4815]\n",
      "EE_radiation_diffuse_horizontal has 181471 values with [ 0.      5.7    32.1775 ... 52.8079 46.5796 21.6929]\n",
      "ES_radiation_direct_horizontal has 184310 values with [  0.       0.7364  10.7892 ... 237.2988 118.7838  23.3732]\n",
      "ES_radiation_diffuse_horizontal has 190604 values with [ 0.      6.3074 58.9658 ... 60.6103 23.2433  2.0907]\n",
      "FI_radiation_direct_horizontal has 150590 values with [0.     0.0141 0.5006 ... 3.2467 5.1266 4.2311]\n",
      "FI_radiation_diffuse_horizontal has 185404 values with [ 0.      0.7144 12.0654 ... 37.4949 29.5949 10.7263]\n",
      "FR_radiation_direct_horizontal has 172526 values with [ 0.      0.1223  2.2864 ... 61.9564 22.7485  3.0425]\n",
      "FR_radiation_diffuse_horizontal has 186647 values with [0.000000e+00 8.000000e-04 3.300300e+00 ... 1.420334e+02 1.259270e+02\n",
      " 2.718540e+01]\n",
      "GB_radiation_direct_horizontal has 161262 values with [ 0.      0.2142  2.222  ... 12.0812 10.2799  4.152 ]\n",
      "GB_radiation_diffuse_horizontal has 183994 values with [  0.       5.8579  37.5279 ... 103.0311  88.82    53.0244]\n",
      "GR_radiation_direct_horizontal has 177681 values with [0.000000e+00 5.210000e-02 3.450100e+00 ... 2.933571e+02 2.424565e+02\n",
      " 1.409997e+02]\n",
      "GR_radiation_diffuse_horizontal has 182345 values with [ 0.      1.3162 42.1298 ... 77.961  42.9107  0.6221]\n",
      "HR_radiation_direct_horizontal has 170732 values with [  0.       0.1931   9.6194 ... 145.7298  95.7446  27.6188]\n",
      "HR_radiation_diffuse_horizontal has 183036 values with [ 0.      3.0941 52.0494 ... 81.1486 43.1078  1.3833]\n",
      "HU_radiation_direct_horizontal has 169068 values with [0.000000e+00 4.010000e-02 8.621000e-01 ... 1.619072e+02 7.187620e+01\n",
      " 5.222300e+00]\n",
      "HU_radiation_diffuse_horizontal has 182755 values with [ 0.      2.1752 29.319  ... 78.0491 67.0434 22.7797]\n",
      "IE_radiation_direct_horizontal has 157692 values with [0.     0.0065 1.315  ... 5.7958 5.7339 3.8185]\n",
      "IE_radiation_diffuse_horizontal has 182586 values with [ 0.      0.3066 22.42   ... 58.8035 22.9152  0.4852]\n",
      "IT_radiation_direct_horizontal has 177414 values with [  0.       0.8428  27.6209 ... 199.0913  81.6404   5.4874]\n",
      "IT_radiation_diffuse_horizontal has 185555 values with [ 0.      4.3465 48.0977 ... 65.7706 54.601  13.6977]\n",
      "LT_radiation_direct_horizontal has 156321 values with [0.0000e+00 8.7000e-03 9.4480e-01 ... 8.2766e+00 9.6310e+00 4.8296e+00]\n",
      "LT_radiation_diffuse_horizontal has 181449 values with [ 0.      0.2559 18.2143 ... 79.6101 51.5919 13.024 ]\n",
      "LU_radiation_direct_horizontal has 158215 values with [0.000000e+00 8.490000e-02 2.092100e+00 ... 1.686974e+02 1.098723e+02\n",
      " 3.732240e+01]\n",
      "LU_radiation_diffuse_horizontal has 181262 values with [ 0.      2.4994 36.0938 ... 79.9706 55.4249  8.9149]\n",
      "LV_radiation_direct_horizontal has 154314 values with [0.00000e+00 1.90000e-03 9.03400e-01 ... 1.23047e+01 5.26880e+00\n",
      " 1.10530e+00]\n",
      "LV_radiation_diffuse_horizontal has 181584 values with [0.00000e+00 4.83000e-02 1.34459e+01 ... 5.98332e+01 2.74830e+01\n",
      " 4.06500e+00]\n",
      "NL_radiation_direct_horizontal has 159883 values with [0.00000e+00 1.80000e-03 2.22300e-01 ... 5.57570e+01 2.14979e+01\n",
      " 6.65800e-01]\n",
      "NL_radiation_diffuse_horizontal has 181888 values with [ 0.      0.1485 12.5921 ... 83.6254 48.438   4.5239]\n",
      "NO_radiation_direct_horizontal has 153473 values with [ 0.      0.1315  2.3621 ...  3.0116  7.1995 11.0263]\n",
      "NO_radiation_diffuse_horizontal has 194121 values with [ 0.      2.2299 20.9055 ... 45.3801 35.0647 13.5627]\n",
      "PL_radiation_direct_horizontal has 165309 values with [0.     0.011  0.6938 ... 2.8517 3.027  2.7103]\n",
      "PL_radiation_diffuse_horizontal has 184956 values with [ 0.      0.4919 19.1518 ... 72.6431 40.0157  4.7566]\n",
      "PT_radiation_direct_horizontal has 179486 values with [0.000000e+00 1.130000e-02 1.125340e+01 ... 1.650093e+02 4.158510e+01\n",
      " 8.167000e-01]\n",
      "PT_radiation_diffuse_horizontal has 188100 values with [ 0.      0.1238 36.8352 ... 71.8889 47.5756  4.0303]\n",
      "RO_radiation_direct_horizontal has 172610 values with [0.00000e+00 5.00000e-04 2.40700e-01 ... 7.84484e+01 2.83453e+01\n",
      " 1.92380e+00]\n",
      "RO_radiation_diffuse_horizontal has 184359 values with [0.000000e+00 5.140000e-02 1.202310e+01 ... 1.064046e+02 6.588510e+01\n",
      " 1.026700e+01]\n",
      "SE_radiation_direct_horizontal has 156267 values with [0.00000e+00 4.30000e-03 5.90300e-01 ... 4.88897e+01 4.85031e+01\n",
      " 2.58938e+01]\n",
      "SE_radiation_diffuse_horizontal has 187609 values with [ 0.      0.2284 12.8326 ... 52.7934 43.4777 19.2419]\n",
      "SI_radiation_direct_horizontal has 167685 values with [0.000000e+00 1.808000e-01 2.540630e+01 ... 2.226852e+02 1.393977e+02\n",
      " 3.556700e+01]\n",
      "SI_radiation_diffuse_horizontal has 182178 values with [ 0.      1.332  42.5939 ... 61.5348 42.4436  1.8329]\n",
      "SK_radiation_direct_horizontal has 167471 values with [0.000000e+00 4.260000e-02 1.162500e+00 ... 2.029779e+02 1.074629e+02\n",
      " 3.250410e+01]\n",
      "SK_radiation_diffuse_horizontal has 183226 values with [  0.       1.7088  29.9951 ... 109.8506  65.4141  16.2823]\n"
     ]
    }
   ],
   "source": [
    "df_subset = df[columns_to_check]\n",
    "\n",
    "for column in df_subset.columns:\n",
    "    print(f\"{column} has {df_subset[column].nunique()} values with {df_subset[column].unique()}\")"
   ]
  },
  {
   "cell_type": "markdown",
   "id": "3913e88f",
   "metadata": {
    "papermill": {
     "duration": 0.00871,
     "end_time": "2024-03-13T15:51:00.132022",
     "exception": false,
     "start_time": "2024-03-13T15:51:00.123312",
     "status": "completed"
    },
    "tags": []
   },
   "source": [
    "So the values are different. So we can keep them for our analysis."
   ]
  },
  {
   "cell_type": "code",
   "execution_count": 9,
   "id": "c2ad6433",
   "metadata": {
    "execution": {
     "iopub.execute_input": "2024-03-13T15:51:00.153610Z",
     "iopub.status.busy": "2024-03-13T15:51:00.152728Z",
     "iopub.status.idle": "2024-03-13T15:51:00.160908Z",
     "shell.execute_reply": "2024-03-13T15:51:00.159571Z"
    },
    "papermill": {
     "duration": 0.022539,
     "end_time": "2024-03-13T15:51:00.163514",
     "exception": false,
     "start_time": "2024-03-13T15:51:00.140975",
     "status": "completed"
    },
    "tags": []
   },
   "outputs": [
    {
     "data": {
      "text/plain": [
       "Index(['utc_timestamp', 'AT_temperature', 'AT_radiation_direct_horizontal',\n",
       "       'AT_radiation_diffuse_horizontal', 'BE_temperature',\n",
       "       'BE_radiation_direct_horizontal', 'BE_radiation_diffuse_horizontal',\n",
       "       'BG_temperature', 'BG_radiation_direct_horizontal',\n",
       "       'BG_radiation_diffuse_horizontal', 'CH_temperature',\n",
       "       'CH_radiation_direct_horizontal', 'CH_radiation_diffuse_horizontal',\n",
       "       'CZ_temperature', 'CZ_radiation_direct_horizontal',\n",
       "       'CZ_radiation_diffuse_horizontal', 'DE_temperature',\n",
       "       'DE_radiation_direct_horizontal', 'DE_radiation_diffuse_horizontal',\n",
       "       'DK_temperature', 'DK_radiation_direct_horizontal',\n",
       "       'DK_radiation_diffuse_horizontal', 'EE_temperature',\n",
       "       'EE_radiation_direct_horizontal', 'EE_radiation_diffuse_horizontal',\n",
       "       'ES_temperature', 'ES_radiation_direct_horizontal',\n",
       "       'ES_radiation_diffuse_horizontal', 'FI_temperature',\n",
       "       'FI_radiation_direct_horizontal', 'FI_radiation_diffuse_horizontal',\n",
       "       'FR_temperature', 'FR_radiation_direct_horizontal',\n",
       "       'FR_radiation_diffuse_horizontal', 'GB_temperature',\n",
       "       'GB_radiation_direct_horizontal', 'GB_radiation_diffuse_horizontal',\n",
       "       'GR_temperature', 'GR_radiation_direct_horizontal',\n",
       "       'GR_radiation_diffuse_horizontal', 'HR_temperature',\n",
       "       'HR_radiation_direct_horizontal', 'HR_radiation_diffuse_horizontal',\n",
       "       'HU_temperature', 'HU_radiation_direct_horizontal',\n",
       "       'HU_radiation_diffuse_horizontal', 'IE_temperature',\n",
       "       'IE_radiation_direct_horizontal', 'IE_radiation_diffuse_horizontal',\n",
       "       'IT_temperature', 'IT_radiation_direct_horizontal',\n",
       "       'IT_radiation_diffuse_horizontal', 'LT_temperature',\n",
       "       'LT_radiation_direct_horizontal', 'LT_radiation_diffuse_horizontal',\n",
       "       'LU_temperature', 'LU_radiation_direct_horizontal',\n",
       "       'LU_radiation_diffuse_horizontal', 'LV_temperature',\n",
       "       'LV_radiation_direct_horizontal', 'LV_radiation_diffuse_horizontal',\n",
       "       'NL_temperature', 'NL_radiation_direct_horizontal',\n",
       "       'NL_radiation_diffuse_horizontal', 'NO_temperature',\n",
       "       'NO_radiation_direct_horizontal', 'NO_radiation_diffuse_horizontal',\n",
       "       'PL_temperature', 'PL_radiation_direct_horizontal',\n",
       "       'PL_radiation_diffuse_horizontal', 'PT_temperature',\n",
       "       'PT_radiation_direct_horizontal', 'PT_radiation_diffuse_horizontal',\n",
       "       'RO_temperature', 'RO_radiation_direct_horizontal',\n",
       "       'RO_radiation_diffuse_horizontal', 'SE_temperature',\n",
       "       'SE_radiation_direct_horizontal', 'SE_radiation_diffuse_horizontal',\n",
       "       'SI_temperature', 'SI_radiation_direct_horizontal',\n",
       "       'SI_radiation_diffuse_horizontal', 'SK_temperature',\n",
       "       'SK_radiation_direct_horizontal', 'SK_radiation_diffuse_horizontal'],\n",
       "      dtype='object')"
      ]
     },
     "execution_count": 9,
     "metadata": {},
     "output_type": "execute_result"
    }
   ],
   "source": [
    "df.columns"
   ]
  },
  {
   "cell_type": "code",
   "execution_count": 10,
   "id": "3c941b21",
   "metadata": {
    "execution": {
     "iopub.execute_input": "2024-03-13T15:51:00.184148Z",
     "iopub.status.busy": "2024-03-13T15:51:00.183739Z",
     "iopub.status.idle": "2024-03-13T15:51:00.190091Z",
     "shell.execute_reply": "2024-03-13T15:51:00.188613Z"
    },
    "papermill": {
     "duration": 0.020046,
     "end_time": "2024-03-13T15:51:00.192782",
     "exception": false,
     "start_time": "2024-03-13T15:51:00.172736",
     "status": "completed"
    },
    "tags": []
   },
   "outputs": [],
   "source": [
    "country_names=list(df.columns)[1:]"
   ]
  },
  {
   "cell_type": "code",
   "execution_count": 11,
   "id": "7b5cc242",
   "metadata": {
    "execution": {
     "iopub.execute_input": "2024-03-13T15:51:00.214850Z",
     "iopub.status.busy": "2024-03-13T15:51:00.213317Z",
     "iopub.status.idle": "2024-03-13T15:51:00.221858Z",
     "shell.execute_reply": "2024-03-13T15:51:00.220277Z"
    },
    "papermill": {
     "duration": 0.022048,
     "end_time": "2024-03-13T15:51:00.224436",
     "exception": false,
     "start_time": "2024-03-13T15:51:00.202388",
     "status": "completed"
    },
    "tags": []
   },
   "outputs": [
    {
     "name": "stdout",
     "output_type": "stream",
     "text": [
      "['NO', 'FR', 'PL', 'IT', 'CZ', 'CH', 'DE', 'LV', 'BE', 'EE', 'HR', 'HU', 'NL', 'AT', 'SK', 'SI', 'LU', 'BG', 'FI', 'LT', 'RO', 'ES', 'GB', 'SE', 'GR', 'DK', 'IE', 'PT']\n"
     ]
    }
   ],
   "source": [
    "country_names = list(set([country[:2] for country in country_names]))\n",
    "print(country_names)"
   ]
  },
  {
   "cell_type": "markdown",
   "id": "f77fb1b3",
   "metadata": {
    "papermill": {
     "duration": 0.009181,
     "end_time": "2024-03-13T15:51:00.242992",
     "exception": false,
     "start_time": "2024-03-13T15:51:00.233811",
     "status": "completed"
    },
    "tags": []
   },
   "source": [
    "## Create dataframes for each country for ease of analysis"
   ]
  },
  {
   "cell_type": "code",
   "execution_count": 12,
   "id": "acc93352",
   "metadata": {
    "execution": {
     "iopub.execute_input": "2024-03-13T15:51:00.263539Z",
     "iopub.status.busy": "2024-03-13T15:51:00.263097Z",
     "iopub.status.idle": "2024-03-13T15:51:00.483627Z",
     "shell.execute_reply": "2024-03-13T15:51:00.482735Z"
    },
    "papermill": {
     "duration": 0.234447,
     "end_time": "2024-03-13T15:51:00.486778",
     "exception": false,
     "start_time": "2024-03-13T15:51:00.252331",
     "status": "completed"
    },
    "tags": []
   },
   "outputs": [
    {
     "name": "stdout",
     "output_type": "stream",
     "text": [
      "Index(['utc_timestamp', 'NO_temperature', 'NO_radiation_direct_horizontal',\n",
      "       'NO_radiation_diffuse_horizontal'],\n",
      "      dtype='object')\n",
      "Index(['utc_timestamp', 'FR_temperature', 'FR_radiation_direct_horizontal',\n",
      "       'FR_radiation_diffuse_horizontal'],\n",
      "      dtype='object')\n",
      "Index(['utc_timestamp', 'PL_temperature', 'PL_radiation_direct_horizontal',\n",
      "       'PL_radiation_diffuse_horizontal'],\n",
      "      dtype='object')\n",
      "Index(['utc_timestamp', 'IT_temperature', 'IT_radiation_direct_horizontal',\n",
      "       'IT_radiation_diffuse_horizontal'],\n",
      "      dtype='object')\n",
      "Index(['utc_timestamp', 'CZ_temperature', 'CZ_radiation_direct_horizontal',\n",
      "       'CZ_radiation_diffuse_horizontal'],\n",
      "      dtype='object')\n",
      "Index(['utc_timestamp', 'CH_temperature', 'CH_radiation_direct_horizontal',\n",
      "       'CH_radiation_diffuse_horizontal'],\n",
      "      dtype='object')\n"
     ]
    }
   ],
   "source": [
    "# We will check the descriptive stats for each individual countries\n",
    "\n",
    "dfs = {}\n",
    "for initial in country_names:\n",
    "    columns = ['utc_timestamp'] + [column for column in df.columns if column[:2] == initial]\n",
    "    df_temp = df[columns]\n",
    "    dfs['df_' + initial] = df_temp\n",
    "    \n",
    "for i, key in enumerate(dfs):\n",
    "    print(dfs[key].columns)\n",
    "    if i>4: \n",
    "        break\n"
   ]
  },
  {
   "cell_type": "code",
   "execution_count": null,
   "id": "8ec88598",
   "metadata": {
    "papermill": {
     "duration": 0.009951,
     "end_time": "2024-03-13T15:51:00.506105",
     "exception": false,
     "start_time": "2024-03-13T15:51:00.496154",
     "status": "completed"
    },
    "tags": []
   },
   "outputs": [],
   "source": []
  }
 ],
 "metadata": {
  "kaggle": {
   "accelerator": "none",
   "dataSources": [
    {
     "datasetId": 4591023,
     "sourceId": 7833108,
     "sourceType": "datasetVersion"
    }
   ],
   "dockerImageVersionId": 30664,
   "isGpuEnabled": false,
   "isInternetEnabled": true,
   "language": "python",
   "sourceType": "notebook"
  },
  "kernelspec": {
   "display_name": "Python 3",
   "language": "python",
   "name": "python3"
  },
  "language_info": {
   "codemirror_mode": {
    "name": "ipython",
    "version": 3
   },
   "file_extension": ".py",
   "mimetype": "text/x-python",
   "name": "python",
   "nbconvert_exporter": "python",
   "pygments_lexer": "ipython3",
   "version": "3.10.13"
  },
  "papermill": {
   "default_parameters": {},
   "duration": 16.563242,
   "end_time": "2024-03-13T15:51:01.240075",
   "environment_variables": {},
   "exception": null,
   "input_path": "__notebook__.ipynb",
   "output_path": "__notebook__.ipynb",
   "parameters": {},
   "start_time": "2024-03-13T15:50:44.676833",
   "version": "2.5.0"
  }
 },
 "nbformat": 4,
 "nbformat_minor": 5
}
